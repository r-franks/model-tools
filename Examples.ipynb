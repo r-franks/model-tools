{
 "cells": [
  {
   "cell_type": "code",
   "execution_count": null,
   "id": "dad40e92",
   "metadata": {},
   "outputs": [],
   "source": [
    "import pandas as pd\n",
    "import numpy as np\n",
    "import matplotlib.pyplot as plt\n",
    "\n",
    "from model_tools import PenalizedRegression as pr\n",
    "\n",
    "from time import time\n",
    "\n",
    "from sklearn import datasets\n",
    "from sklearn import model_selection\n",
    "from sklearn import preprocessing\n",
    "from sklearn import linear_model\n",
    "from sklearn import pipeline\n",
    "from sklearn import metrics"
   ]
  },
  {
   "cell_type": "markdown",
   "id": "a81d48ac",
   "metadata": {},
   "source": [
    "## Load and Split Data"
   ]
  },
  {
   "cell_type": "code",
   "execution_count": null,
   "id": "ca8338d1",
   "metadata": {},
   "outputs": [],
   "source": [
    "data = datasets.load_breast_cancer(as_frame=False)\n",
    "X = data[\"data\"]\n",
    "y = data[\"target\"]\n",
    "X_train, X_test, y_train, y_test = model_selection.train_test_split(X, y, train_size=0.5, random_state=42)"
   ]
  },
  {
   "cell_type": "markdown",
   "id": "87d91128",
   "metadata": {},
   "source": [
    "## Data Pre-Processing"
   ]
  },
  {
   "cell_type": "code",
   "execution_count": null,
   "id": "462c11fb",
   "metadata": {},
   "outputs": [],
   "source": [
    "SS = preprocessing.StandardScaler()\n",
    "SS.fit(X_train)\n",
    "X_train_ss = SS.transform(X_train)\n",
    "X_test_ss = SS.transform(X_test)"
   ]
  },
  {
   "cell_type": "markdown",
   "id": "a09bdd41",
   "metadata": {},
   "source": [
    "## Models\n",
    "cv=3, since this is a small data-set"
   ]
  },
  {
   "cell_type": "markdown",
   "id": "4ad5615c",
   "metadata": {},
   "source": [
    "### l1"
   ]
  },
  {
   "cell_type": "code",
   "execution_count": null,
   "id": "ded81e32",
   "metadata": {
    "scrolled": true
   },
   "outputs": [],
   "source": [
    "logistic_l1_cv = linear_model.LogisticRegressionCV(\n",
    "    cv=3, Cs=50, penalty=\"l1\", scoring=\"roc_auc\", solver=\"liblinear\", random_state=42, max_iter=1e4)\n",
    "logistic_l1_cv.fit(X_train_ss, y_train)\n",
    "print(logistic_l1_cv.score(X_train_ss, y_train), logistic_l1_cv.score(X_test_ss, y_test))\n",
    "fig, (ax1, ax2) = pr.plot_logistic_cv(logistic_l1_cv, marker='.', figsize=[12,4], fontsize=14)"
   ]
  },
  {
   "cell_type": "code",
   "execution_count": null,
   "id": "b9916ffd",
   "metadata": {},
   "outputs": [],
   "source": [
    "var_idx = np.where(logistic_l1_cv.coef_[0] != 0)[0]"
   ]
  },
  {
   "cell_type": "code",
   "execution_count": null,
   "id": "15bb2a53",
   "metadata": {},
   "outputs": [],
   "source": [
    "logistic_l1_cv = linear_model.LogisticRegressionCV(\n",
    "    cv=3, Cs=50, penalty=\"l1\", scoring=\"roc_auc\", solver=\"liblinear\", random_state=42, max_iter=1e4)\n",
    "logistic_l1_cv.fit(X_train_ss[:, var_idx], y_train)\n",
    "print(logistic_l1_cv.score(X_train_ss[:, var_idx], y_train), logistic_l1_cv.score(X_test_ss[:, var_idx], y_test))"
   ]
  },
  {
   "cell_type": "markdown",
   "id": "7e3c50ab",
   "metadata": {},
   "source": [
    "### l2"
   ]
  },
  {
   "cell_type": "code",
   "execution_count": null,
   "id": "00ac274b",
   "metadata": {},
   "outputs": [],
   "source": [
    "logistic_l2_cv = linear_model.LogisticRegressionCV(\n",
    "    cv=3, Cs=50, penalty=\"l2\", scoring=\"roc_auc\", solver=\"liblinear\", random_state=42, max_iter=1e4)\n",
    "logistic_l2_cv.fit(X_train_ss, y_train)\n",
    "print(logistic_l2_cv.score(X_train_ss, y_train), logistic_l2_cv.score(X_test_ss, y_test))\n",
    "pr.plot_logistic_cv(logistic_l2_cv, marker='.', figsize=[12,4], fontsize=14)"
   ]
  },
  {
   "cell_type": "markdown",
   "id": "3b5dec75",
   "metadata": {},
   "source": [
    "### elastic_net"
   ]
  },
  {
   "cell_type": "code",
   "execution_count": null,
   "id": "205adb66",
   "metadata": {},
   "outputs": [],
   "source": [
    "logistic_elnet_cv = linear_model.LogisticRegressionCV(\n",
    "    cv=3, Cs=50, penalty=\"elasticnet\", l1_ratios=np.linspace(0,1,21), scoring=\"roc_auc\", solver=\"saga\", random_state=42, max_iter=1e4)\n",
    "logistic_elnet_cv.fit(X_train_ss, y_train)\n",
    "print(logistic_elnet_cv.score(X_train_ss, y_train), logistic_elnet_cv.score(X_test_ss, y_test))\n",
    "pr.plot_logistic_cv(logistic_elnet_cv, marker='.', highlight_c=\"orange\", figsize=[12,4], fontsize=14)"
   ]
  }
 ],
 "metadata": {
  "kernelspec": {
   "display_name": "Python 3",
   "language": "python",
   "name": "python3"
  },
  "language_info": {
   "codemirror_mode": {
    "name": "ipython",
    "version": 3
   },
   "file_extension": ".py",
   "mimetype": "text/x-python",
   "name": "python",
   "nbconvert_exporter": "python",
   "pygments_lexer": "ipython3",
   "version": "3.8.8"
  }
 },
 "nbformat": 4,
 "nbformat_minor": 5
}
