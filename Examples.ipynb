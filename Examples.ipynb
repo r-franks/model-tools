{
 "cells": [
  {
   "cell_type": "code",
   "execution_count": null,
   "id": "dad40e92",
   "metadata": {},
   "outputs": [],
   "source": [
    "import pandas as pd\n",
    "import numpy as np\n",
    "import matplotlib.pyplot as plt\n",
    "\n",
    "from model_tools import PenalizedRegression as pr\n",
    "\n",
    "from time import time\n",
    "\n",
    "from sklearn import datasets\n",
    "from sklearn import model_selection\n",
    "from sklearn import preprocessing\n",
    "from sklearn import linear_model"
   ]
  },
  {
   "cell_type": "markdown",
   "id": "a81d48ac",
   "metadata": {},
   "source": [
    "## Load and Split Data"
   ]
  },
  {
   "cell_type": "code",
   "execution_count": null,
   "id": "ca8338d1",
   "metadata": {},
   "outputs": [],
   "source": [
    "data = datasets.load_breast_cancer(as_frame=False)\n",
    "X = data[\"data\"]\n",
    "y = data[\"target\"]\n",
    "X_train, X_test, y_train, y_test = model_selection.train_test_split(X, y, train_size=0.5, random_state=42)"
   ]
  },
  {
   "cell_type": "markdown",
   "id": "87d91128",
   "metadata": {},
   "source": [
    "## Data Pre-Processing"
   ]
  },
  {
   "cell_type": "code",
   "execution_count": null,
   "id": "462c11fb",
   "metadata": {},
   "outputs": [],
   "source": [
    "SS = preprocessing.StandardScaler()\n",
    "SS.fit(X_train)\n",
    "X_train_ss = SS.transform(X_train)\n",
    "X_test_ss = SS.transform(X_test)"
   ]
  },
  {
   "cell_type": "markdown",
   "id": "a09bdd41",
   "metadata": {},
   "source": [
    "## Models\n",
    "cv=3, since this is a small data-set"
   ]
  },
  {
   "cell_type": "markdown",
   "id": "4ad5615c",
   "metadata": {},
   "source": [
    "### l1"
   ]
  },
  {
   "cell_type": "code",
   "execution_count": null,
   "id": "ded81e32",
   "metadata": {},
   "outputs": [],
   "source": [
    "logistic_l1_cv = linear_model.LogisticRegressionCV(\n",
    "    cv=3, penalty=\"l1\", scoring=\"roc_auc\", solver=\"liblinear\", random_state=42, max_iter=1e4)\n",
    "logistic_l1_cv.fit(X_train_ss, y_train)\n",
    "print(logistic_l1_cv.score(X_train_ss, y_train), logistic_l1_cv.score(X_test_ss, y_test))\n",
    "pr.plot_reg_path(logistic_l1_cv, figsize=[12,4], fontsize=14)"
   ]
  },
  {
   "cell_type": "markdown",
   "id": "7e3c50ab",
   "metadata": {},
   "source": [
    "### l2"
   ]
  },
  {
   "cell_type": "code",
   "execution_count": null,
   "id": "00ac274b",
   "metadata": {},
   "outputs": [],
   "source": [
    "logistic_l2_cv = linear_model.LogisticRegressionCV(\n",
    "    cv=3, penalty=\"l2\", scoring=\"roc_auc\", solver=\"liblinear\", random_state=42, max_iter=1e4)\n",
    "logistic_l2_cv.fit(X_train_ss, y_train)\n",
    "print(logistic_l2_cv.score(X_train_ss, y_train), logistic_l2_cv.score(X_test_ss, y_test))\n",
    "pr.plot_reg_path(logistic_l2_cv, figsize=[12,4], fontsize=14)"
   ]
  },
  {
   "cell_type": "markdown",
   "id": "3b5dec75",
   "metadata": {},
   "source": [
    "### elastic_net"
   ]
  },
  {
   "cell_type": "code",
   "execution_count": null,
   "id": "205adb66",
   "metadata": {},
   "outputs": [],
   "source": [
    "logistic_elnet_cv = linear_model.LogisticRegressionCV(\n",
    "    cv=3, penalty=\"elasticnet\", l1_ratios=np.linspace(0,1,11), scoring=\"roc_auc\", solver=\"saga\", random_state=42, max_iter=1e4)\n",
    "logistic_elnet_cv.fit(X_train_ss, y_train)\n",
    "print(logistic_elnet_cv.score(X_train_ss, y_train), logistic_elnet_cv.score(X_test_ss, y_test))\n",
    "pr.plot_elnet_perf(logistic_elnet_cv, highlight_c=\"orange\", t=0.9, figsize=[12,4], fontsize=14)"
   ]
  },
  {
   "cell_type": "code",
   "execution_count": null,
   "id": "5b4ac2f1",
   "metadata": {},
   "outputs": [],
   "source": [
    "plt.plot(logistic_elnet_cv.l1_ratios, logistic_elnet_cv.scores_[1].mean(axis=0).max(axis=0), 'o-', label=\"best C\")\n",
    "plt.xlabel(\"l1 ratio\")\n",
    "plt.ylabel(logistic_elnet_cv.scoring)\n",
    "plt.legend()"
   ]
  }
 ],
 "metadata": {
  "kernelspec": {
   "display_name": "Python 3",
   "language": "python",
   "name": "python3"
  },
  "language_info": {
   "codemirror_mode": {
    "name": "ipython",
    "version": 3
   },
   "file_extension": ".py",
   "mimetype": "text/x-python",
   "name": "python",
   "nbconvert_exporter": "python",
   "pygments_lexer": "ipython3",
   "version": "3.9.5"
  }
 },
 "nbformat": 4,
 "nbformat_minor": 5
}
